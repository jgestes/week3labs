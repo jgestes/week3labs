{
 "cells": [
  {
   "cell_type": "markdown",
   "id": "35fde428-0092-44d3-a193-899d1ae0407d",
   "metadata": {},
   "source": [
    "University of Montana MSBA Program \\\n",
    "BGEN 632 - Introduction to Python \\\n",
    "Jen Estes \\\n",
    "March 10th, 2025 \n",
    "\n",
    "\n",
    "## Independent Lab: Self-service Kiosk\n",
    "Welcome to my self-service kiosk, where you can purchase day tickets and season passes for a ski resort. "
   ]
  },
  {
   "cell_type": "code",
   "execution_count": 12,
   "id": "eb21c0eb-8a8c-4463-80b3-eef5afbea99b",
   "metadata": {},
   "outputs": [],
   "source": [
    "# Creating variables for products and prices\n",
    "product1 = \"Day Pass - Adult\"\n",
    "product2 = \"Day Pass - Child\"\n",
    "product3 = \"Season Pass - Adult\"\n",
    "product4 = \"Season Pass - Child\"\n",
    "product5 = \"Season Pass - College\"\n",
    "\n",
    "price1 = 100\n",
    "price2 = 75\n",
    "price3 = 225\n",
    "price4 = 175\n",
    "price5 = 200"
   ]
  },
  {
   "cell_type": "markdown",
   "id": "379c64d9-9219-4888-9ca3-fc7e3f7810a8",
   "metadata": {},
   "source": [
    "## Product Options\n",
    "Below are the product options and associated prices available to purchase at this kiosk."
   ]
  },
  {
   "cell_type": "code",
   "execution_count": 14,
   "id": "f6f279df-5410-4dcd-b2a5-50806ea5331e",
   "metadata": {},
   "outputs": [
    {
     "name": "stdout",
     "output_type": "stream",
     "text": [
      "1:Day Pass - Adult, Price = $100\n",
      "2:Day Pass - Child, Price = $75\n",
      "3:Season Pass - Adult, Price = $225\n",
      "4:Season Pass - Child, Price = $175\n",
      "5:Season Pass - College, Price = $200\n"
     ]
    }
   ],
   "source": [
    "print(f\"1:{product1}, Price = ${price1}\")\n",
    "print(f\"2:{product2}, Price = ${price2}\")\n",
    "print(f\"3:{product3}, Price = ${price3}\")\n",
    "print(f\"4:{product4}, Price = ${price4}\")\n",
    "print(f\"5:{product5}, Price = ${price5}\")"
   ]
  },
  {
   "cell_type": "code",
   "execution_count": 15,
   "id": "b4b8e470-2cba-47c0-8e7a-16ed103f8f07",
   "metadata": {},
   "outputs": [
    {
     "name": "stdin",
     "output_type": "stream",
     "text": [
      "Please input the number associated with the pass you would like to purchase.\n",
      " 1\n"
     ]
    },
    {
     "name": "stdout",
     "output_type": "stream",
     "text": [
      "You have selected Day Pass - Adult, which is $100 dollars each.\n"
     ]
    },
    {
     "name": "stdin",
     "output_type": "stream",
     "text": [
      "How many would you like to purchase?\n",
      " 2\n"
     ]
    },
    {
     "name": "stdout",
     "output_type": "stream",
     "text": [
      "You have selected 2 Day Pass - Adult, which is $200 total.\n",
      "The current total for your order is $200\n"
     ]
    },
    {
     "name": "stdin",
     "output_type": "stream",
     "text": [
      "If you are finished ordering, please input 1; otherwise, if you would like to add to your order, please input 2.\n",
      " 2\n",
      "Please input the number associated with the pass you would like to purchase.\n",
      " 6\n"
     ]
    },
    {
     "name": "stdout",
     "output_type": "stream",
     "text": [
      "That is not an option. Please try again.\n"
     ]
    },
    {
     "name": "stdin",
     "output_type": "stream",
     "text": [
      "Please input the number associated with the pass you would like to purchase.\n",
      " 5\n"
     ]
    },
    {
     "name": "stdout",
     "output_type": "stream",
     "text": [
      "You have selected Season Pass - College, which is $200 dollars each.\n"
     ]
    },
    {
     "name": "stdin",
     "output_type": "stream",
     "text": [
      "How many would you like to purchase?\n",
      " 1\n"
     ]
    },
    {
     "name": "stdout",
     "output_type": "stream",
     "text": [
      "You have selected 1 Season Pass - College, which is $200 total.\n",
      "The current total for your order is $400\n"
     ]
    },
    {
     "name": "stdin",
     "output_type": "stream",
     "text": [
      "If you are finished ordering, please input 1; otherwise, if you would like to add to your order, please input 2.\n",
      " 2\n",
      "Please input the number associated with the pass you would like to purchase.\n",
      " 4\n"
     ]
    },
    {
     "name": "stdout",
     "output_type": "stream",
     "text": [
      "You have selected Season Pass - Child, which is $175 dollars each.\n"
     ]
    },
    {
     "name": "stdin",
     "output_type": "stream",
     "text": [
      "How many would you like to purchase?\n",
      " 1\n"
     ]
    },
    {
     "name": "stdout",
     "output_type": "stream",
     "text": [
      "You have selected 1 Season Pass - Child, which is $175 total.\n",
      "The current total for your order is $575\n"
     ]
    },
    {
     "name": "stdin",
     "output_type": "stream",
     "text": [
      "If you are finished ordering, please input 1; otherwise, if you would like to add to your order, please input 2.\n",
      " 1\n"
     ]
    },
    {
     "name": "stdout",
     "output_type": "stream",
     "text": [
      "Thank you for your order, your total is $575 for 4 passes. Have a great day!\n"
     ]
    }
   ],
   "source": [
    "total = 0\n",
    "products = 0\n",
    "while True:\n",
    "    product = float(input(\"Please input the number associated with the pass you would like to purchase.\\n\"))\n",
    "    if product == 1:\n",
    "    # Day Pass - Adult\n",
    "        print(f\"You have selected {product1}, which is ${price1} dollars each.\")\n",
    "    elif product == 2:\n",
    "    # Day Pass - Child\n",
    "        print(f\"You have selected {product2}, which is ${price2} dollars each.\")\n",
    "    elif product == 3:\n",
    "    # Season Pass - Adult\n",
    "        print(f\"You have selected {product3}, which is ${price3} dollars each.\")\n",
    "    elif product == 4:\n",
    "    # Season Pass - Child\n",
    "        print(f\"You have selected {product4}, which is ${price4} dollars each.\")\n",
    "    elif product == 5:\n",
    "    # Season Pass - College\n",
    "        print(f\"You have selected {product5}, which is ${price5} dollars each.\")\n",
    "    else:\n",
    "    #Not an option\n",
    "        print(\"That is not an option. Please try again.\")\n",
    "        continue\n",
    "        \n",
    "    count = int(input(\"How many would you like to purchase?\\n\"))\n",
    "    if count > 0 and product == 1:\n",
    "    # Day Pass - Adult\n",
    "            cart = price1*count\n",
    "            print(f\"You have selected {count} {product1}, which is ${price1*count} total.\")\n",
    "    elif count > 0 and product == 2:\n",
    "    # Day Pass - Child\n",
    "            cart = price2*count\n",
    "            print(f\"You have selected {count} {product2}, which is ${price2*count} total.\")\n",
    "    elif count > 0 and product == 3:\n",
    "    # Season Pass - Adult\n",
    "            cart = price3*count\n",
    "            print(f\"You have selected {count} {product3}, which is ${price3*count} total.\")\n",
    "    elif count > 0 and  product == 4:\n",
    "    # Season Pass - Child\n",
    "            cart = price4*count\n",
    "            print(f\"You have selected {count} {product4}, which is ${price4*count} total.\")\n",
    "    elif count > 0 and product == 5:\n",
    "    # Season Pass - College\n",
    "            cart = price5*count\n",
    "            print(f\"You have selected {count} {product5}, which is ${price5*count} total.\")\n",
    "    elif count <1:\n",
    "   #Not an option\n",
    "            print(\"You must select a quantity greater than 0. Please try again.\")\n",
    "            continue\n",
    "        \n",
    "    total += cart\n",
    "    products += count\n",
    "    print(f\"The current total for your order is ${total}\")\n",
    "    more = float(input(\"If you are finished ordering, please input 1; otherwise, if you would like to add to your order, please input 2.\\n\"))\n",
    "    if more == 1:\n",
    "        print(f\"Thank you for your order, your total is ${total} for {products} passes. Have a great day!\") \n",
    "        break\n",
    "    elif more != 2:\n",
    "        print(\"That is not an option. Please try again.\")"
   ]
  },
  {
   "cell_type": "markdown",
   "id": "7372c62b-4162-4101-b2fc-999cfdedca4d",
   "metadata": {},
   "source": [
    "## Thank You\n",
    "Enjoy your ski day, and thank you for visiting this kiosk. See you again soon!"
   ]
  }
 ],
 "metadata": {
  "kernelspec": {
   "display_name": "Python [conda env:base] *",
   "language": "python",
   "name": "conda-base-py"
  },
  "language_info": {
   "codemirror_mode": {
    "name": "ipython",
    "version": 3
   },
   "file_extension": ".py",
   "mimetype": "text/x-python",
   "name": "python",
   "nbconvert_exporter": "python",
   "pygments_lexer": "ipython3",
   "version": "3.12.7"
  }
 },
 "nbformat": 4,
 "nbformat_minor": 5
}
