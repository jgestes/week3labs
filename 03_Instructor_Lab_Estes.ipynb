{
 "cells": [
  {
   "cell_type": "markdown",
   "id": "6a44b254-301d-4e7c-99cf-f6f17b5b13be",
   "metadata": {},
   "source": [
    "University of Montana MSBA Program \\\n",
    "BGEN 632 - Introduction to Python \\\n",
    "Jen Estes \\\n",
    "March 17th, 2025 \n",
    "\n",
    "# Week 3: Instructor Led Lab \n",
    "\n",
    "This code will convert temperature values for values provided in Celsius, Fahrenheit, and Kelvin. \n",
    "\n",
    "----\n"
   ]
  },
  {
   "cell_type": "markdown",
   "id": "b8b012d2-7975-4b64-9dde-9a52ad34cf3f",
   "metadata": {},
   "source": [
    "## Welcome to my Temperature Converter!"
   ]
  },
  {
   "cell_type": "markdown",
   "id": "0984515c-2a6d-4304-ae43-6e3b005ba6f4",
   "metadata": {},
   "source": [
    "### Create Variables"
   ]
  },
  {
   "cell_type": "code",
   "execution_count": 15,
   "id": "6b787ce9-dcac-4f4a-ad05-9c6acaff28b5",
   "metadata": {},
   "outputs": [],
   "source": [
    "celsius = 0.0\n",
    "fahrenheit = 0.0\n",
    "kelvin = 0.0"
   ]
  },
  {
   "cell_type": "markdown",
   "id": "f9d22b85-9429-400e-b7aa-d3d106184715",
   "metadata": {},
   "source": [
    "### Get User Input"
   ]
  },
  {
   "cell_type": "code",
   "execution_count": 17,
   "id": "0ae9858c-13d2-4b21-b8a8-bc0176086dac",
   "metadata": {},
   "outputs": [
    {
     "name": "stdin",
     "output_type": "stream",
     "text": [
      "Please provide a value, in Celsius, to convert:\n",
      " -40\n"
     ]
    }
   ],
   "source": [
    "text = int(input(\"Please provide a value, in Celsius, to convert:\\n\"))"
   ]
  },
  {
   "cell_type": "markdown",
   "id": "9812d21c-f3d1-4f69-a1ff-7bcf707b3d47",
   "metadata": {},
   "source": [
    "### Convert to Fahrenheit and Kelvin"
   ]
  },
  {
   "cell_type": "code",
   "execution_count": 19,
   "id": "41638180-5872-4844-be05-2b2f2edcbe85",
   "metadata": {},
   "outputs": [],
   "source": [
    "celsius = text\n",
    "\n",
    "# Convert Celsius to Fahrenheit\n",
    "fahrenheit = (9 / 5) * celsius + 32\n",
    "\n",
    "# Convert Celsius to Kelvin\n",
    "kelvin = celsius + 273.15"
   ]
  },
  {
   "cell_type": "markdown",
   "id": "ed8637b4-c574-40d6-a020-acaea318b46c",
   "metadata": {},
   "source": [
    "### Display Conversion Results"
   ]
  },
  {
   "cell_type": "code",
   "execution_count": 21,
   "id": "88e47e01-05e6-43c5-8850-51f10eae63ff",
   "metadata": {},
   "outputs": [
    {
     "name": "stdout",
     "output_type": "stream",
     "text": [
      "-40 degrees Celsius is -40.0 degrees Fahrenheit which is 233.14999999999998 degrees Kelvin.\n"
     ]
    }
   ],
   "source": [
    "statement2 = str(celsius) + \" degrees Celsius is \" + str(fahrenheit)  + \" degrees Fahrenheit which is \" + str(kelvin) + \" degrees Kelvin.\"\n",
    "print(statement2)"
   ]
  },
  {
   "cell_type": "markdown",
   "id": "67fa0a04-c13f-4583-82e3-ca1d033bdb6f",
   "metadata": {},
   "source": [
    "### Create Additional Variables"
   ]
  },
  {
   "cell_type": "code",
   "execution_count": 23,
   "id": "4071c791-5564-4d74-a0d4-d01e94972721",
   "metadata": {},
   "outputs": [
    {
     "name": "stdin",
     "output_type": "stream",
     "text": [
      "Please provide another value, in Celsius, to convert:\n",
      " 0\n"
     ]
    }
   ],
   "source": [
    "#Create variables, get user input\n",
    "celsius_two = 0.0\n",
    "fahrenheit_two = 0.0\n",
    "kelvin_two = 0.0\n",
    "\n",
    "text_two = float(input(\"Please provide another value, in Celsius, to convert:\\n\"))\n"
   ]
  },
  {
   "cell_type": "markdown",
   "id": "e55806d4-9904-4f98-b954-e33125cd2032",
   "metadata": {},
   "source": [
    "### Convert to Fahrenheit and Kelvin"
   ]
  },
  {
   "cell_type": "code",
   "execution_count": 25,
   "id": "64e5f087-31cd-48aa-b306-d0d3161cc52b",
   "metadata": {},
   "outputs": [
    {
     "name": "stdout",
     "output_type": "stream",
     "text": [
      "Second set of values: 0.0 degrees Celsius is 32.0 degrees Fahrenheit which is 273.15 degrees Kelvin.\n"
     ]
    }
   ],
   "source": [
    "celsius_two = text_two\n",
    "fahrenheit_two = (9 / 5) * celsius_two + 32\n",
    "kelvin_two = celsius_two + 273.15\n",
    "\n",
    "statement3 = \"Second set of values: \" + str(celsius_two) + \" degrees Celsius is \" + str(fahrenheit_two) + \" degrees Fahrenheit which is \" + str(kelvin_two) + \" degrees Kelvin.\"\n",
    "print(statement3)"
   ]
  },
  {
   "cell_type": "markdown",
   "id": "0902f99e-2a96-44ff-9dc4-cc3c36bf70fc",
   "metadata": {},
   "source": [
    "### Comparison of Variables"
   ]
  },
  {
   "cell_type": "code",
   "execution_count": 27,
   "id": "5ae6d2f4-43d4-4621-8381-3270acb04a6a",
   "metadata": {},
   "outputs": [
    {
     "name": "stdout",
     "output_type": "stream",
     "text": [
      "The original Celsius value of -40 is smaller than the new value of 0.0.\n"
     ]
    }
   ],
   "source": [
    "#Celsius\n",
    "if celsius > celsius_two:\n",
    "    # Original Larger\n",
    "    print(f\"The original Celsius value of {celsius} is larger than the new value of {celsius_two}.\")\n",
    "elif celsius < celsius_two:\n",
    "    # New value is larger\n",
    "    print(f\"The original Celsius value of {celsius} is smaller than the new value of {celsius_two}.\")\n",
    "elif celsius == celsius_two:\n",
    "    # Both are equal\n",
    "    print(f\"The original Celsius value of {celsius} equals the new value of {celsius_two}.\")"
   ]
  },
  {
   "cell_type": "code",
   "execution_count": 28,
   "id": "b2233a2c-67d7-4a50-aa20-0eb8393ccab6",
   "metadata": {},
   "outputs": [
    {
     "name": "stdout",
     "output_type": "stream",
     "text": [
      "The original Fahrenheit value of -40.0 is smaller than the new value of 32.0.\n"
     ]
    }
   ],
   "source": [
    "#Fahrenheit\n",
    "if fahrenheit > fahrenheit_two:\n",
    "    # Original Larger\n",
    "    print(f\"The original Fahrenheit value of {fahrenheit} is larger than the new value of {fahrenheit_two}.\")\n",
    "elif fahrenheit < fahrenheit_two:\n",
    "    # New value is larger\n",
    "    print(f\"The original Fahrenheit value of {fahrenheit} is smaller than the new value of {fahrenheit_two}.\")\n",
    "elif fahrenheit == fahrenheit_two:\n",
    "    # Both are equal\n",
    "    print(f\"The original Fahrenheit value of {fahrenheit} equals the new value of {fahrenheit_two}.\")"
   ]
  },
  {
   "cell_type": "code",
   "execution_count": 29,
   "id": "0950daa5-ed04-41e6-b281-3876642a7860",
   "metadata": {},
   "outputs": [
    {
     "name": "stdout",
     "output_type": "stream",
     "text": [
      "The original Kelvin value of 233.14999999999998 is smaller than the new value of 273.15.\n"
     ]
    }
   ],
   "source": [
    "#Kelvin\n",
    "if kelvin > kelvin_two:\n",
    "    # Original Larger\n",
    "    print(f\"The original Kelvin value of {kelvin} is larger than the new value of {kelvin_two}.\")\n",
    "elif kelvin < kelvin_two:\n",
    "    # New value is larger\n",
    "    print(f\"The original Kelvin value of {kelvin} is smaller than the new value of {kelvin_two}.\")\n",
    "elif kelvin == kelvin_two:\n",
    "    # Both are equal\n",
    "    print(f\"The original Kelvin value of {kelvin} equals the new value of {kelvin_two}.\")"
   ]
  },
  {
   "cell_type": "markdown",
   "id": "b0b49d6b-f0a1-4c8f-a7ae-9cf1418841b0",
   "metadata": {},
   "source": [
    "### Logical Operators\n",
    "\n",
    "First: Below I will use the \"and\" operator to compare the two celsius values with one another and two fahrenheit values with one another. The below operator will print \"Python speaks the truth!\" if BOTH conditions are true, and if the condition does not hold for both, it will print \"Python lies\". "
   ]
  },
  {
   "cell_type": "code",
   "execution_count": 31,
   "id": "ea7d823c-aa41-4026-9c2f-374f08a10089",
   "metadata": {},
   "outputs": [
    {
     "name": "stdout",
     "output_type": "stream",
     "text": [
      "celsius == celsius_two and fahrenheit < fahrenheit_two\n",
      "Python lies.\n"
     ]
    }
   ],
   "source": [
    "print(\"celsius == celsius_two and fahrenheit < fahrenheit_two\")\n",
    "if celsius == celsius_two and fahrenheit < fahrenheit_two :\n",
    "    # python tells the truth\n",
    "    print(\"Python speaks the truth!\")\n",
    "else:\n",
    "    #python lies\n",
    "    print(\"Python lies.\")"
   ]
  },
  {
   "cell_type": "markdown",
   "id": "8078cfee-00a6-4426-826e-a9da70c62f4c",
   "metadata": {},
   "source": [
    "Second: Below I will use the \"or\" operator to compare the two celsius values with one another and two kelvin values with one another. The below operator will print \"Python speaks the truth!\" if one condition is true, and if the condition does not hold for either, it will print \"Python lies\". "
   ]
  },
  {
   "cell_type": "code",
   "execution_count": 33,
   "id": "129b4b11-c6e5-42d8-a685-988822ab5d59",
   "metadata": {},
   "outputs": [
    {
     "name": "stdout",
     "output_type": "stream",
     "text": [
      "celsius == celsius_two or kelvin != kelvin_two\n",
      "Python speaks the truth!\n"
     ]
    }
   ],
   "source": [
    "print(\"celsius == celsius_two or kelvin != kelvin_two\")\n",
    "if celsius == celsius_two or kelvin != kelvin_two :\n",
    "    # python tells the truth\n",
    "    print(\"Python speaks the truth!\")\n",
    "else:\n",
    "    #python lies\n",
    "    print(\"Python lies.\")"
   ]
  },
  {
   "cell_type": "markdown",
   "id": "543859f0-bf6a-4f39-8914-c99a864d98c6",
   "metadata": {},
   "source": [
    "### Lab Complete!"
   ]
  }
 ],
 "metadata": {
  "kernelspec": {
   "display_name": "Python [conda env:base] *",
   "language": "python",
   "name": "conda-base-py"
  },
  "language_info": {
   "codemirror_mode": {
    "name": "ipython",
    "version": 3
   },
   "file_extension": ".py",
   "mimetype": "text/x-python",
   "name": "python",
   "nbconvert_exporter": "python",
   "pygments_lexer": "ipython3",
   "version": "3.12.7"
  }
 },
 "nbformat": 4,
 "nbformat_minor": 5
}
